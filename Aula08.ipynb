{
 "cells": [
  {
   "cell_type": "code",
   "execution_count": 1,
   "metadata": {},
   "outputs": [],
   "source": [
    "import pandas as pd\n",
    "import numpy as np\n",
    "\n",
    "data = pd.read_feather('tavbase/Sample.feather')"
   ]
  },
  {
   "cell_type": "code",
   "execution_count": 2,
   "metadata": {},
   "outputs": [],
   "source": [
    "def zscore(df, grupo, var, score):\n",
    "    media = df[var].mean()\n",
    "    dpadr = df[var].std()\n",
    "    gr = df.groupby(grupo)[var]\n",
    "    dc = gr.describe()\n",
    "    dc = dc.reset_index()\n",
    "    dc[score] = dc['mean'].apply(lambda x: (x - media) / dpadr)\n",
    "    dcz = dc[[grupo, score]]\n",
    "    df = df.merge(dcz, on=grupo, how='left')\n",
    "    \n",
    "    return df"
   ]
  },
  {
   "cell_type": "code",
   "execution_count": 3,
   "metadata": {},
   "outputs": [],
   "source": [
    "## Classificacao zcore\n",
    "variaveis_dimensoes = ['Customer ID', 'Segment', 'Region', 'Category']\n",
    "\n",
    "for dimensao in variaveis_dimensoes:\n",
    "    medidas = ['Sales', 'Profit', 'Quantity', 'Discount', 'Delivery', 'Price']\n",
    "    grupo   = data.groupby(dimensao)[medidas].mean().reset_index()\n",
    "    \n",
    "    for medida in medidas: \n",
    "        grupo = zscore(grupo, dimensao, medida, 'z'+medida)\n",
    "    \n",
    "    zmedidas = ['z'+med for med in medidas]\n",
    "    \n",
    "    zgrupo = grupo[zmedidas]\n",
    "    grupo['score'] = zgrupo.sum(axis=1)\n",
    "    media_score    = grupo['score'].mean()\n",
    "    dpadr_score    = grupo['score'].std()\n",
    "    \n",
    "    grupo['classe'] = grupo['score'].apply(lambda x : int((x - media_score) / dpadr_score) + 3)\n",
    "    grupo['rank']  = grupo['score'].rank(ascending=False)\n",
    "    grupo['lucro'] = grupo['Profit'].apply(lambda x : 0 if x < 0 else 1)\n",
    "\n",
    "    grupo.to_feather('tavbase/classificacaoz_'+dimensao+'.feather')"
   ]
  },
  {
   "cell_type": "code",
   "execution_count": null,
   "metadata": {},
   "outputs": [],
   "source": []
  }
 ],
 "metadata": {
  "kernelspec": {
   "display_name": "Python 3.10.6 64-bit (microsoft store)",
   "language": "python",
   "name": "python3"
  },
  "language_info": {
   "codemirror_mode": {
    "name": "ipython",
    "version": 3
   },
   "file_extension": ".py",
   "mimetype": "text/x-python",
   "name": "python",
   "nbconvert_exporter": "python",
   "pygments_lexer": "ipython3",
   "version": "3.10.8"
  },
  "orig_nbformat": 4,
  "vscode": {
   "interpreter": {
    "hash": "c48b96778aef8c16f94339f61283c0c0715d02469f02f62e2692c48d5b1a76dd"
   }
  }
 },
 "nbformat": 4,
 "nbformat_minor": 2
}
